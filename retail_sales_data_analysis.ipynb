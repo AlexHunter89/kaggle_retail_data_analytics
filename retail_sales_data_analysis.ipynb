{
 "cells": [
  {
   "cell_type": "markdown",
   "metadata": {},
   "source": [
    "# Retail Sales Data Analysis\n",
    "\n",
    "In this project, we will be exploring and analyzing a historical retail sales dataset that details store-level performance, promotional activities, and seasonal effects over a defined period. The dataset includes information on various stores and their departments, featuring records of weekly sales, store characteristics, and a range of contextual factors such as regional conditions, holidays, and markdown events.\n",
    "\n",
    "By examining these data, we aim to gain insights into the relationships between promotional markdowns, holiday-driven consumer behavior, and overall sales outcomes across different stores and departments. This exploratory and analytical work will serve as a foundation for understanding the dataset’s intricacies and will guide subsequent modeling and decision-making processes.\n",
    "\n",
    "The dataset can be found [here](https://www.kaggle.com/datasets/manjeetsingh/retaildataset 'Original Dataset from Manjeet Singh') on Kaggle.com by Manjeet Singh.\n",
    "\n",
    "First step is importing some libraries for use in Python. I also set the default theme for plots to Seaborn's default theme."
   ]
  },
  {
   "cell_type": "code",
   "execution_count": 1,
   "metadata": {},
   "outputs": [],
   "source": [
    "import numpy as np\n",
    "import pandas as pd\n",
    "from pathlib import Path\n",
    "import seaborn as sns\n",
    "import matplotlib.pyplot as plt\n",
    "\n",
    "sns.set_theme()"
   ]
  },
  {
   "cell_type": "markdown",
   "metadata": {},
   "source": [
    "In the next block of code, I use the Path function from pathlib to create some 'safe' relative file paths. I then use those file paths and Panda's read_csv function to create some DataFrames. Finally, the DataFrame's info is printed out so that we can get to know the data a bit."
   ]
  },
  {
   "cell_type": "code",
   "execution_count": 2,
   "metadata": {},
   "outputs": [
    {
     "name": "stdout",
     "output_type": "stream",
     "text": [
      "<class 'pandas.core.frame.DataFrame'>\n",
      "RangeIndex: 8190 entries, 0 to 8189\n",
      "Data columns (total 12 columns):\n",
      " #   Column        Non-Null Count  Dtype  \n",
      "---  ------        --------------  -----  \n",
      " 0   Store         8190 non-null   int64  \n",
      " 1   Date          8190 non-null   object \n",
      " 2   Temperature   8190 non-null   float64\n",
      " 3   Fuel_Price    8190 non-null   float64\n",
      " 4   MarkDown1     4032 non-null   float64\n",
      " 5   MarkDown2     2921 non-null   float64\n",
      " 6   MarkDown3     3613 non-null   float64\n",
      " 7   MarkDown4     3464 non-null   float64\n",
      " 8   MarkDown5     4050 non-null   float64\n",
      " 9   CPI           7605 non-null   float64\n",
      " 10  Unemployment  7605 non-null   float64\n",
      " 11  IsHoliday     8190 non-null   bool   \n",
      "dtypes: bool(1), float64(9), int64(1), object(1)\n",
      "memory usage: 712.0+ KB\n",
      "None\n",
      "<class 'pandas.core.frame.DataFrame'>\n",
      "RangeIndex: 421570 entries, 0 to 421569\n",
      "Data columns (total 5 columns):\n",
      " #   Column        Non-Null Count   Dtype  \n",
      "---  ------        --------------   -----  \n",
      " 0   Store         421570 non-null  int64  \n",
      " 1   Dept          421570 non-null  int64  \n",
      " 2   Date          421570 non-null  object \n",
      " 3   Weekly_Sales  421570 non-null  float64\n",
      " 4   IsHoliday     421570 non-null  bool   \n",
      "dtypes: bool(1), float64(1), int64(2), object(1)\n",
      "memory usage: 13.3+ MB\n",
      "None\n",
      "<class 'pandas.core.frame.DataFrame'>\n",
      "RangeIndex: 45 entries, 0 to 44\n",
      "Data columns (total 3 columns):\n",
      " #   Column  Non-Null Count  Dtype \n",
      "---  ------  --------------  ----- \n",
      " 0   Store   45 non-null     int64 \n",
      " 1   Type    45 non-null     object\n",
      " 2   Size    45 non-null     int64 \n",
      "dtypes: int64(2), object(1)\n",
      "memory usage: 1.2+ KB\n",
      "None\n"
     ]
    }
   ],
   "source": [
    "features_data_file_path = Path('data/features_data_set.csv')\n",
    "sales_data_file_path = Path('data/sales_data_set.csv')\n",
    "stores_data_file_path = Path('data/stores_data_set.csv')\n",
    "\n",
    "features_df = pd.read_csv(features_data_file_path)\n",
    "sales_df = pd.read_csv(sales_data_file_path)\n",
    "stores_df = pd.read_csv(stores_data_file_path)\n",
    "\n",
    "print(features_df.info())\n",
    "print(sales_df.info())\n",
    "print(stores_df.info())"
   ]
  },
  {
   "cell_type": "markdown",
   "metadata": {},
   "source": [
    "Let's convert some of the data types before we work with the datasets. After the conversions I will print out the data types again so that we can verify the changes."
   ]
  },
  {
   "cell_type": "code",
   "execution_count": 3,
   "metadata": {},
   "outputs": [
    {
     "name": "stdout",
     "output_type": "stream",
     "text": [
      "<class 'pandas.core.series.Series'>\n",
      "RangeIndex: 8190 entries, 0 to 8189\n",
      "Series name: Date\n",
      "Non-Null Count  Dtype         \n",
      "--------------  -----         \n",
      "8190 non-null   datetime64[ns]\n",
      "dtypes: datetime64[ns](1)\n",
      "memory usage: 64.1 KB\n",
      "None\n",
      "<class 'pandas.core.series.Series'>\n",
      "RangeIndex: 421570 entries, 0 to 421569\n",
      "Series name: Date\n",
      "Non-Null Count   Dtype         \n",
      "--------------   -----         \n",
      "421570 non-null  datetime64[ns]\n",
      "dtypes: datetime64[ns](1)\n",
      "memory usage: 3.2 MB\n",
      "None\n",
      "<class 'pandas.core.series.Series'>\n",
      "RangeIndex: 45 entries, 0 to 44\n",
      "Series name: Type\n",
      "Non-Null Count  Dtype   \n",
      "--------------  -----   \n",
      "45 non-null     category\n",
      "dtypes: category(1)\n",
      "memory usage: 309.0 bytes\n",
      "None\n"
     ]
    }
   ],
   "source": [
    "features_df['Date'] = pd.to_datetime(features_df['Date'], format=\"%d/%m/%Y\")\n",
    "sales_df['Date'] = pd.to_datetime(sales_df['Date'], format=\"%d/%m/%Y\")\n",
    "stores_df[\"Type\"] = pd.Categorical(stores_df[\"Type\"])\n",
    "\n",
    "print(features_df['Date'].info())\n",
    "print(sales_df['Date'].info())\n",
    "print(stores_df[\"Type\"].info())"
   ]
  },
  {
   "cell_type": "markdown",
   "metadata": {},
   "source": [
    "Let's go ahead and merge the tables so that we can have all of the information in one DataFrame."
   ]
  },
  {
   "cell_type": "code",
   "execution_count": 4,
   "metadata": {},
   "outputs": [],
   "source": [
    "all_tables_merged_df = sales_df.merge(\n",
    "    features_df,\n",
    "    on=['Store', 'Date', 'IsHoliday'],\n",
    "    how='left'\n",
    "    ).merge(\n",
    "        stores_df,\n",
    "        on='Store',\n",
    "        how='left'\n",
    "        )"
   ]
  },
  {
   "cell_type": "markdown",
   "metadata": {},
   "source": [
    "Let's make sure the merge worked by previewing our DataFrame."
   ]
  },
  {
   "cell_type": "code",
   "execution_count": 5,
   "metadata": {},
   "outputs": [
    {
     "data": {
      "text/html": [
       "<div>\n",
       "<style scoped>\n",
       "    .dataframe tbody tr th:only-of-type {\n",
       "        vertical-align: middle;\n",
       "    }\n",
       "\n",
       "    .dataframe tbody tr th {\n",
       "        vertical-align: top;\n",
       "    }\n",
       "\n",
       "    .dataframe thead th {\n",
       "        text-align: right;\n",
       "    }\n",
       "</style>\n",
       "<table border=\"1\" class=\"dataframe\">\n",
       "  <thead>\n",
       "    <tr style=\"text-align: right;\">\n",
       "      <th></th>\n",
       "      <th>Store</th>\n",
       "      <th>Dept</th>\n",
       "      <th>Date</th>\n",
       "      <th>Weekly_Sales</th>\n",
       "      <th>IsHoliday</th>\n",
       "      <th>Temperature</th>\n",
       "      <th>Fuel_Price</th>\n",
       "      <th>MarkDown1</th>\n",
       "      <th>MarkDown2</th>\n",
       "      <th>MarkDown3</th>\n",
       "      <th>MarkDown4</th>\n",
       "      <th>MarkDown5</th>\n",
       "      <th>CPI</th>\n",
       "      <th>Unemployment</th>\n",
       "      <th>Type</th>\n",
       "      <th>Size</th>\n",
       "    </tr>\n",
       "  </thead>\n",
       "  <tbody>\n",
       "    <tr>\n",
       "      <th>0</th>\n",
       "      <td>1</td>\n",
       "      <td>1</td>\n",
       "      <td>2010-02-05</td>\n",
       "      <td>24924.50</td>\n",
       "      <td>False</td>\n",
       "      <td>42.31</td>\n",
       "      <td>2.572</td>\n",
       "      <td>NaN</td>\n",
       "      <td>NaN</td>\n",
       "      <td>NaN</td>\n",
       "      <td>NaN</td>\n",
       "      <td>NaN</td>\n",
       "      <td>211.096358</td>\n",
       "      <td>8.106</td>\n",
       "      <td>A</td>\n",
       "      <td>151315</td>\n",
       "    </tr>\n",
       "    <tr>\n",
       "      <th>1</th>\n",
       "      <td>1</td>\n",
       "      <td>1</td>\n",
       "      <td>2010-02-12</td>\n",
       "      <td>46039.49</td>\n",
       "      <td>True</td>\n",
       "      <td>38.51</td>\n",
       "      <td>2.548</td>\n",
       "      <td>NaN</td>\n",
       "      <td>NaN</td>\n",
       "      <td>NaN</td>\n",
       "      <td>NaN</td>\n",
       "      <td>NaN</td>\n",
       "      <td>211.242170</td>\n",
       "      <td>8.106</td>\n",
       "      <td>A</td>\n",
       "      <td>151315</td>\n",
       "    </tr>\n",
       "    <tr>\n",
       "      <th>2</th>\n",
       "      <td>1</td>\n",
       "      <td>1</td>\n",
       "      <td>2010-02-19</td>\n",
       "      <td>41595.55</td>\n",
       "      <td>False</td>\n",
       "      <td>39.93</td>\n",
       "      <td>2.514</td>\n",
       "      <td>NaN</td>\n",
       "      <td>NaN</td>\n",
       "      <td>NaN</td>\n",
       "      <td>NaN</td>\n",
       "      <td>NaN</td>\n",
       "      <td>211.289143</td>\n",
       "      <td>8.106</td>\n",
       "      <td>A</td>\n",
       "      <td>151315</td>\n",
       "    </tr>\n",
       "    <tr>\n",
       "      <th>3</th>\n",
       "      <td>1</td>\n",
       "      <td>1</td>\n",
       "      <td>2010-02-26</td>\n",
       "      <td>19403.54</td>\n",
       "      <td>False</td>\n",
       "      <td>46.63</td>\n",
       "      <td>2.561</td>\n",
       "      <td>NaN</td>\n",
       "      <td>NaN</td>\n",
       "      <td>NaN</td>\n",
       "      <td>NaN</td>\n",
       "      <td>NaN</td>\n",
       "      <td>211.319643</td>\n",
       "      <td>8.106</td>\n",
       "      <td>A</td>\n",
       "      <td>151315</td>\n",
       "    </tr>\n",
       "    <tr>\n",
       "      <th>4</th>\n",
       "      <td>1</td>\n",
       "      <td>1</td>\n",
       "      <td>2010-03-05</td>\n",
       "      <td>21827.90</td>\n",
       "      <td>False</td>\n",
       "      <td>46.50</td>\n",
       "      <td>2.625</td>\n",
       "      <td>NaN</td>\n",
       "      <td>NaN</td>\n",
       "      <td>NaN</td>\n",
       "      <td>NaN</td>\n",
       "      <td>NaN</td>\n",
       "      <td>211.350143</td>\n",
       "      <td>8.106</td>\n",
       "      <td>A</td>\n",
       "      <td>151315</td>\n",
       "    </tr>\n",
       "  </tbody>\n",
       "</table>\n",
       "</div>"
      ],
      "text/plain": [
       "   Store  Dept       Date  Weekly_Sales  IsHoliday  Temperature  Fuel_Price  \\\n",
       "0      1     1 2010-02-05      24924.50      False        42.31       2.572   \n",
       "1      1     1 2010-02-12      46039.49       True        38.51       2.548   \n",
       "2      1     1 2010-02-19      41595.55      False        39.93       2.514   \n",
       "3      1     1 2010-02-26      19403.54      False        46.63       2.561   \n",
       "4      1     1 2010-03-05      21827.90      False        46.50       2.625   \n",
       "\n",
       "   MarkDown1  MarkDown2  MarkDown3  MarkDown4  MarkDown5         CPI  \\\n",
       "0        NaN        NaN        NaN        NaN        NaN  211.096358   \n",
       "1        NaN        NaN        NaN        NaN        NaN  211.242170   \n",
       "2        NaN        NaN        NaN        NaN        NaN  211.289143   \n",
       "3        NaN        NaN        NaN        NaN        NaN  211.319643   \n",
       "4        NaN        NaN        NaN        NaN        NaN  211.350143   \n",
       "\n",
       "   Unemployment Type    Size  \n",
       "0         8.106    A  151315  \n",
       "1         8.106    A  151315  \n",
       "2         8.106    A  151315  \n",
       "3         8.106    A  151315  \n",
       "4         8.106    A  151315  "
      ]
     },
     "execution_count": 5,
     "metadata": {},
     "output_type": "execute_result"
    }
   ],
   "source": [
    "all_tables_merged_df.head()"
   ]
  },
  {
   "cell_type": "markdown",
   "metadata": {},
   "source": [
    "We are going to take a look at the average weekly sales by store. First, we will use groupby to group the data according to the Store number.\n",
    "\n",
    "When we get the new DataFrame, the mean that is returned by the function is more precise than we really need it to be. We round the numbers so that they look more like regular currency values.\n",
    "\n",
    "Finally, we will merge the store_df table with the new table so that we can compare the different store types, sizes, and average weekly sales.\n",
    "\n",
    "After all of that, we preview our DataFrame to make sure everything has gone properly so far."
   ]
  },
  {
   "cell_type": "code",
   "execution_count": 6,
   "metadata": {},
   "outputs": [],
   "source": [
    "grouped_by_department_df = all_tables_merged_df.groupby('Store').Weekly_Sales.mean().reset_index()\n",
    "\n",
    "grouped_by_department_df['Weekly_Sales'] = round(grouped_by_department_df['Weekly_Sales'], 2)\n",
    "\n",
    "avg_weekly_sales_by_store = pd.merge(\n",
    "    grouped_by_department_df,\n",
    "    stores_df,\n",
    "    on='Store',\n",
    "    how='left'\n",
    ")"
   ]
  },
  {
   "cell_type": "code",
   "execution_count": 7,
   "metadata": {},
   "outputs": [
    {
     "data": {
      "text/html": [
       "<div>\n",
       "<style scoped>\n",
       "    .dataframe tbody tr th:only-of-type {\n",
       "        vertical-align: middle;\n",
       "    }\n",
       "\n",
       "    .dataframe tbody tr th {\n",
       "        vertical-align: top;\n",
       "    }\n",
       "\n",
       "    .dataframe thead th {\n",
       "        text-align: right;\n",
       "    }\n",
       "</style>\n",
       "<table border=\"1\" class=\"dataframe\">\n",
       "  <thead>\n",
       "    <tr style=\"text-align: right;\">\n",
       "      <th></th>\n",
       "      <th>Store</th>\n",
       "      <th>Weekly_Sales</th>\n",
       "      <th>Type</th>\n",
       "      <th>Size</th>\n",
       "    </tr>\n",
       "  </thead>\n",
       "  <tbody>\n",
       "    <tr>\n",
       "      <th>0</th>\n",
       "      <td>1</td>\n",
       "      <td>21710.54</td>\n",
       "      <td>A</td>\n",
       "      <td>151315</td>\n",
       "    </tr>\n",
       "    <tr>\n",
       "      <th>1</th>\n",
       "      <td>2</td>\n",
       "      <td>26898.07</td>\n",
       "      <td>A</td>\n",
       "      <td>202307</td>\n",
       "    </tr>\n",
       "    <tr>\n",
       "      <th>2</th>\n",
       "      <td>3</td>\n",
       "      <td>6373.03</td>\n",
       "      <td>B</td>\n",
       "      <td>37392</td>\n",
       "    </tr>\n",
       "    <tr>\n",
       "      <th>3</th>\n",
       "      <td>4</td>\n",
       "      <td>29161.21</td>\n",
       "      <td>A</td>\n",
       "      <td>205863</td>\n",
       "    </tr>\n",
       "    <tr>\n",
       "      <th>4</th>\n",
       "      <td>5</td>\n",
       "      <td>5053.42</td>\n",
       "      <td>B</td>\n",
       "      <td>34875</td>\n",
       "    </tr>\n",
       "  </tbody>\n",
       "</table>\n",
       "</div>"
      ],
      "text/plain": [
       "   Store  Weekly_Sales Type    Size\n",
       "0      1      21710.54    A  151315\n",
       "1      2      26898.07    A  202307\n",
       "2      3       6373.03    B   37392\n",
       "3      4      29161.21    A  205863\n",
       "4      5       5053.42    B   34875"
      ]
     },
     "execution_count": 7,
     "metadata": {},
     "output_type": "execute_result"
    }
   ],
   "source": [
    "avg_weekly_sales_by_store.head()"
   ]
  },
  {
   "cell_type": "markdown",
   "metadata": {},
   "source": [
    "## Our first visualization\n",
    "\n",
    "We will create some visualizations to try to understand the store's types and sizes. This is the information that is provided in the 'stores_data_set.csv'. The reason I wanted to start with these to features is because they appear to be the simplest. Using a simple metric, like the average weekly sales, we can compare stores and their sales in a straighfoward way.\n",
    "\n",
    "The first plot will focus on the store types. We will see a bar for each store. This bar will represent the average weekly sales of that store. The color of the bar will represent the store type. This will hopefully allow us to quickly analyze whether or not a particular type of store has more or less sales than others.\n",
    "\n",
    "The second plot will focus on the store size. The bar for each store will represent the size of that store this time. The color will still represent the type. This will hopefully allow us to analyze whether certain store types tend towards bigger or smaller sizes. We can use this second plot and compare it to the first. By comparing the plots we should be able to see if bigger store sizes tend to coorelate with higher average weekly sales."
   ]
  },
  {
   "cell_type": "code",
   "execution_count": 8,
   "metadata": {},
   "outputs": [
    {
     "data": {
      "text/plain": [
       "<seaborn.axisgrid.FacetGrid at 0x1e3330bd8e0>"
      ]
     },
     "execution_count": 8,
     "metadata": {},
     "output_type": "execute_result"
    },
    {
     "data": {
      "image/png": "[encoded data removed]",
      "text/plain": [
       "<Figure size 2066x500 with 1 Axes>"
      ]
     },
     "metadata": {},
     "output_type": "display_data"
    },
    {
     "data": {
      "image/png": "[encoded data removed]",
      "text/plain": [
       "<Figure size 2066x500 with 1 Axes>"
      ]
     },
     "metadata": {},
     "output_type": "display_data"
    }
   ],
   "source": [
    "sns.catplot(avg_weekly_sales_by_store, x=\"Store\", y=\"Weekly_Sales\",hue=\"Type\", kind='bar', aspect=4)\n",
    "sns.catplot(avg_weekly_sales_by_store, x=\"Store\", y=\"Size\",hue=\"Type\", kind='bar', aspect=4)"
   ]
  },
  {
   "cell_type": "markdown",
   "metadata": {},
   "source": [
    "### What can we learn from this?\n",
    "\n",
    "If we take a look at the two bar charts we can see some clear relationships. The first thing that stands out to me in a very obvious was is the relationship between the store sizes and the store types. We can see very clearly, for example, that all stores labeled type 'C' seem to be the smallest in size. The stores with type 'B' are generally a little bigger than type 'C' stores. Finally, the biggest group of stores seems to be the type 'A' stores.\n",
    "\n",
    "The data isn't specific about what the 'Size' variable is referring to specifically. Because of this, I think it's ok to assume that the store simply has more employees, more customers, and more space in general.\n",
    "\n",
    "Using this information we can guess that there might be something about the store types that make as store more likely to be larger or smaller. For example, the stores that are type 'C' might all be located in very crowded inner-city areas.\n",
    "\n",
    "### Sales and store type\n",
    "\n",
    "We can also see that there seems to be a relationship between store type and the store's average weekly sales. What we might infer if we had only looked at one chart, is that the store type and store sales have a strong relationship. However, by bring the two charts up together and comparing them side-by-side, we can see that the sales seem to be higher for stores of a larger size as well.\n",
    "\n",
    "This means we have to question what is really driving the sales of these stores. Is it the store type that is the most meaningful variable in understanding the average weekly sales of a store or is it simply a matter of store size. \n",
    "\n",
    "### What we can't learn from this.\n",
    "\n",
    "We cannot assume that the company is categorizing the stores 'Type' according to size. We can see that there are some type 'A' and type 'B' stores that are just as small in 'Size' as the type 'C' stores. So, we can see a clear relationship but we cannot say, for example, that all stores type 'C' are the smallest stores in size.\n",
    "\n",
    "We might find that with more exploration we can figure out exactly what it is that coorelates the strongest to each stores sales. We might also get a better clue at what the store types are referring too. Maybe we find more evidence, for example, that supports our theory that stores type 'C' are located in cities."
   ]
  },
  {
   "cell_type": "code",
   "execution_count": 34,
   "metadata": {},
   "outputs": [
    {
     "data": {
      "text/html": [
       "<div>\n",
       "<style scoped>\n",
       "    .dataframe tbody tr th:only-of-type {\n",
       "        vertical-align: middle;\n",
       "    }\n",
       "\n",
       "    .dataframe tbody tr th {\n",
       "        vertical-align: top;\n",
       "    }\n",
       "\n",
       "    .dataframe thead th {\n",
       "        text-align: right;\n",
       "    }\n",
       "</style>\n",
       "<table border=\"1\" class=\"dataframe\">\n",
       "  <thead>\n",
       "    <tr style=\"text-align: right;\">\n",
       "      <th></th>\n",
       "      <th>Date</th>\n",
       "      <th>Weekly_Sales</th>\n",
       "      <th>Temperature</th>\n",
       "      <th>Fuel_Price</th>\n",
       "      <th>CPI</th>\n",
       "      <th>Unemployment</th>\n",
       "    </tr>\n",
       "  </thead>\n",
       "  <tbody>\n",
       "    <tr>\n",
       "      <th>0</th>\n",
       "      <td>2010-02-05</td>\n",
       "      <td>16836.12</td>\n",
       "      <td>33.28</td>\n",
       "      <td>2.72</td>\n",
       "      <td>167.40</td>\n",
       "      <td>8.58</td>\n",
       "    </tr>\n",
       "    <tr>\n",
       "      <th>1</th>\n",
       "      <td>2010-02-12</td>\n",
       "      <td>16352.06</td>\n",
       "      <td>33.36</td>\n",
       "      <td>2.70</td>\n",
       "      <td>167.38</td>\n",
       "      <td>8.57</td>\n",
       "    </tr>\n",
       "    <tr>\n",
       "      <th>2</th>\n",
       "      <td>2010-02-19</td>\n",
       "      <td>16216.66</td>\n",
       "      <td>37.04</td>\n",
       "      <td>2.67</td>\n",
       "      <td>167.34</td>\n",
       "      <td>8.58</td>\n",
       "    </tr>\n",
       "    <tr>\n",
       "      <th>3</th>\n",
       "      <td>2010-02-26</td>\n",
       "      <td>14899.55</td>\n",
       "      <td>38.63</td>\n",
       "      <td>2.69</td>\n",
       "      <td>167.69</td>\n",
       "      <td>8.56</td>\n",
       "    </tr>\n",
       "    <tr>\n",
       "      <th>4</th>\n",
       "      <td>2010-03-05</td>\n",
       "      <td>15921.02</td>\n",
       "      <td>42.37</td>\n",
       "      <td>2.73</td>\n",
       "      <td>167.73</td>\n",
       "      <td>8.57</td>\n",
       "    </tr>\n",
       "  </tbody>\n",
       "</table>\n",
       "</div>"
      ],
      "text/plain": [
       "        Date  Weekly_Sales  Temperature  Fuel_Price     CPI  Unemployment\n",
       "0 2010-02-05      16836.12        33.28        2.72  167.40          8.58\n",
       "1 2010-02-12      16352.06        33.36        2.70  167.38          8.57\n",
       "2 2010-02-19      16216.66        37.04        2.67  167.34          8.58\n",
       "3 2010-02-26      14899.55        38.63        2.69  167.69          8.56\n",
       "4 2010-03-05      15921.02        42.37        2.73  167.73          8.57"
      ]
     },
     "execution_count": 34,
     "metadata": {},
     "output_type": "execute_result"
    }
   ],
   "source": [
    "grouped_by_date = all_tables_merged_df.groupby('Date').agg({\n",
    "    \"Weekly_Sales\": 'mean',\n",
    "    \"Temperature\": 'mean',\n",
    "    \"Fuel_Price\": 'mean',\n",
    "    \"CPI\": 'mean',\n",
    "    \"Unemployment\": 'mean'}).reset_index()\n",
    "\n",
    "grouped_by_date['Weekly_Sales'] = round(grouped_by_date['Weekly_Sales'], 2)\n",
    "grouped_by_date['Temperature'] = round(grouped_by_date['Temperature'], 2)\n",
    "grouped_by_date['Fuel_Price'] = round(grouped_by_date['Fuel_Price'], 2)\n",
    "grouped_by_date['CPI'] = round(grouped_by_date['CPI'], 2)\n",
    "grouped_by_date['Unemployment'] = round(grouped_by_date['Unemployment'], 2)\n",
    "\n",
    "grouped_by_date.head()\n",
    "\n"
   ]
  },
  {
   "cell_type": "code",
   "execution_count": 41,
   "metadata": {},
   "outputs": [
    {
     "data": {
      "image/png": "[encoded data removed]",
      "text/plain": [
       "<Figure size 1400x400 with 1 Axes>"
      ]
     },
     "metadata": {},
     "output_type": "display_data"
    }
   ],
   "source": [
    "fig, ax = plt.subplots(figsize=(14, 4))\n",
    "plt.bar(grouped_by_date['Date'], grouped_by_date['Weekly_Sales'], color='Blue')\n",
    "plt.show()"
   ]
  },
  {
   "cell_type": "code",
   "execution_count": null,
   "metadata": {},
   "outputs": [],
   "source": []
  }
 ],
 "metadata": {
  "kernelspec": {
   "display_name": ".venv",
   "language": "python",
   "name": "python3"
  },
  "language_info": {
   "codemirror_mode": {
    "name": "ipython",
    "version": 3
   },
   "file_extension": ".py",
   "mimetype": "text/x-python",
   "name": "python",
   "nbconvert_exporter": "python",
   "pygments_lexer": "ipython3",
   "version": "3.12.4"
  }
 },
 "nbformat": 4,
 "nbformat_minor": 2
}
